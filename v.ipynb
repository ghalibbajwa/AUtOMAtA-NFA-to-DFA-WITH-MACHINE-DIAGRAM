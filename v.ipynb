{
 "cells": [
  {
   "cell_type": "code",
   "execution_count": 10,
   "metadata": {},
   "outputs": [],
   "source": [
    "from automata.fa.dfa import DFA\n",
    "from visual_automata.fa.dfa import VisualDFA\n",
    "import json\n",
    "from collections import OrderedDict"
   ]
  },
  {
   "cell_type": "code",
   "execution_count": 28,
   "metadata": {},
   "outputs": [
    {
     "name": "stdout",
     "output_type": "stream",
     "text": [
      "{'a', 'b'}\n"
     ]
    }
   ],
   "source": [
    "\n",
    "\n",
    "jsdata={\n",
    "    \"states\":3,\n",
    "    \"letters\":[\"a\",\"b\"],\n",
    "    \"t_func\":[[0,\"a\",[0,1]],[0,\"b\",[0]],[1,\"b\",[2]]],\n",
    "    \"start\":0,\n",
    "    \"final\":[1,2]\n",
    "}\n",
    "data=json.loads(json.dumps(jsdata),object_pairs_hook=OrderedDict)\n",
    "\n",
    "dfa_states = 2 ** data[\"states\"]\n",
    "dfa_letters = data[\"letters\"]\n",
    "dfa_start = data[\"start\"]\n",
    "dfa_t_func = []\n",
    "dfa_final = []\n",
    "dfa_list = []\n",
    "q = []\n",
    "\n",
    "q.append((dfa_start,))\n",
    "\n",
    "nfa_transitions = {}\n",
    "dfa_transitions = {}\n",
    "\n",
    "for transition in data[\"t_func\"]:\n",
    "    nfa_transitions[(transition[0], transition[1])] = transition[2]\n",
    "\n",
    "for in_state in q:\n",
    "    for symbol in dfa_letters:\n",
    "        if len(in_state) == 1 and (in_state[0], symbol) in nfa_transitions:\n",
    "            dfa_transitions[(in_state, symbol)] = nfa_transitions[(in_state[0], symbol)]\n",
    "\n",
    "            if tuple(dfa_transitions[(in_state, symbol)]) not in q:\n",
    "                q.append(tuple(dfa_transitions[(in_state, symbol)]))\n",
    "        else:\n",
    "            dest = []\n",
    "            f_dest =[]\n",
    "\n",
    "            for n_state in in_state:\n",
    "                if (n_state, symbol) in nfa_transitions and nfa_transitions[(n_state, symbol)] not in dest:\n",
    "                    dest.append(nfa_transitions[(n_state, symbol)])\n",
    "            \n",
    "            if dest:\n",
    "                for d in dest:\n",
    "                    for value in d:\n",
    "                        if value not in f_dest:\n",
    "                            f_dest.append(value)\n",
    "            \n",
    "                dfa_transitions[(in_state, symbol)] = f_dest \n",
    "\n",
    "                if tuple(f_dest) not in q: \n",
    "                    q.append(tuple(f_dest))\n",
    "\n",
    "for key, value in dfa_transitions.items():\n",
    "    temp_list = [[key[0], key[1], value]]\n",
    "    dfa_t_func.extend(temp_list)\n",
    "\n",
    "\n",
    "for q_state in q:\n",
    "    for f_state in data[\"final\"]:\n",
    "        if f_state in q_state:\n",
    "            dfa_final.append(q_state)\n",
    "\n",
    "dfa = OrderedDict()\n",
    "dfa[\"states\"] = dfa_states\n",
    "dfa[\"letters\"] = dfa_letters\n",
    "dfa[\"t_func\"] = dfa_t_func\n",
    "dfa[\"start\"] = dfa_start\n",
    "dfa[\"final\"] = dfa_final\n",
    "\n",
    "#output_file = open('output2.json', 'w+')\n",
    "#print(json.dumps(dfa, indent=4))\n",
    "dfa_states=[]\n",
    "for i in range(dfa[\"states\"]):\n",
    "   dfa_states.append(i)\n",
    "#json.dump(dfa, output_file, separators = (',\\t' , ':'))     \n",
    "print(set(dfa[\"letters\"]))"
   ]
  },
  {
   "cell_type": "code",
   "execution_count": 27,
   "metadata": {},
   "outputs": [
    {
     "ename": "MissingStateError",
     "evalue": "transition start state 0 is missing",
     "output_type": "error",
     "traceback": [
      "\u001b[1;31m---------------------------------------------------------------------------\u001b[0m",
      "\u001b[1;31mMissingStateError\u001b[0m                         Traceback (most recent call last)",
      "\u001b[1;32m~\\AppData\\Local\\Temp/ipykernel_5948/2398340493.py\u001b[0m in \u001b[0;36m<module>\u001b[1;34m\u001b[0m\n\u001b[1;32m----> 1\u001b[1;33m dfa = VisualDFA(\n\u001b[0m\u001b[0;32m      2\u001b[0m     \u001b[0mstates\u001b[0m\u001b[1;33m=\u001b[0m\u001b[0mset\u001b[0m\u001b[1;33m(\u001b[0m\u001b[0mdfa_states\u001b[0m\u001b[1;33m)\u001b[0m\u001b[1;33m,\u001b[0m\u001b[1;33m\u001b[0m\u001b[1;33m\u001b[0m\u001b[0m\n\u001b[0;32m      3\u001b[0m     \u001b[0minput_symbols\u001b[0m\u001b[1;33m=\u001b[0m\u001b[1;33m{\u001b[0m\u001b[1;34m\"0\"\u001b[0m\u001b[1;33m,\u001b[0m \u001b[1;34m\"1\"\u001b[0m\u001b[1;33m}\u001b[0m\u001b[1;33m,\u001b[0m\u001b[1;33m\u001b[0m\u001b[1;33m\u001b[0m\u001b[0m\n\u001b[0;32m      4\u001b[0m     transitions={\n\u001b[0;32m      5\u001b[0m         \u001b[1;34m\"q0\"\u001b[0m\u001b[1;33m:\u001b[0m \u001b[1;33m{\u001b[0m\u001b[1;34m\"0\"\u001b[0m\u001b[1;33m:\u001b[0m \u001b[1;34m\"q3\"\u001b[0m\u001b[1;33m,\u001b[0m \u001b[1;34m\"1\"\u001b[0m\u001b[1;33m:\u001b[0m \u001b[1;34m\"q1\"\u001b[0m\u001b[1;33m}\u001b[0m\u001b[1;33m,\u001b[0m\u001b[1;33m\u001b[0m\u001b[1;33m\u001b[0m\u001b[0m\n",
      "\u001b[1;32mC:\\ML\\fyp\\env\\lib\\site-packages\\visual_automata\\fa\\dfa.py\u001b[0m in \u001b[0;36m__init__\u001b[1;34m(self, dfa, states, input_symbols, transitions, initial_state, final_states)\u001b[0m\n\u001b[0;32m     35\u001b[0m             \u001b[0mself\u001b[0m\u001b[1;33m.\u001b[0m\u001b[0mdfa\u001b[0m \u001b[1;33m=\u001b[0m \u001b[0mdfa\u001b[0m\u001b[1;33m\u001b[0m\u001b[1;33m\u001b[0m\u001b[0m\n\u001b[0;32m     36\u001b[0m         \u001b[1;32melse\u001b[0m\u001b[1;33m:\u001b[0m\u001b[1;33m\u001b[0m\u001b[1;33m\u001b[0m\u001b[0m\n\u001b[1;32m---> 37\u001b[1;33m             self.dfa = DFA(\n\u001b[0m\u001b[0;32m     38\u001b[0m                 \u001b[0mstates\u001b[0m\u001b[1;33m=\u001b[0m\u001b[0mstates\u001b[0m\u001b[1;33m,\u001b[0m\u001b[1;33m\u001b[0m\u001b[1;33m\u001b[0m\u001b[0m\n\u001b[0;32m     39\u001b[0m                 \u001b[0minput_symbols\u001b[0m\u001b[1;33m=\u001b[0m\u001b[0minput_symbols\u001b[0m\u001b[1;33m,\u001b[0m\u001b[1;33m\u001b[0m\u001b[1;33m\u001b[0m\u001b[0m\n",
      "\u001b[1;32mC:\\ML\\fyp\\env\\lib\\site-packages\\automata\\fa\\dfa.py\u001b[0m in \u001b[0;36m__init__\u001b[1;34m(self, states, input_symbols, transitions, initial_state, final_states, allow_partial)\u001b[0m\n\u001b[0;32m     23\u001b[0m         \u001b[0mself\u001b[0m\u001b[1;33m.\u001b[0m\u001b[0mfinal_states\u001b[0m \u001b[1;33m=\u001b[0m \u001b[0mfinal_states\u001b[0m\u001b[1;33m.\u001b[0m\u001b[0mcopy\u001b[0m\u001b[1;33m(\u001b[0m\u001b[1;33m)\u001b[0m\u001b[1;33m\u001b[0m\u001b[1;33m\u001b[0m\u001b[0m\n\u001b[0;32m     24\u001b[0m         \u001b[0mself\u001b[0m\u001b[1;33m.\u001b[0m\u001b[0mallow_partial\u001b[0m \u001b[1;33m=\u001b[0m \u001b[0mallow_partial\u001b[0m\u001b[1;33m\u001b[0m\u001b[1;33m\u001b[0m\u001b[0m\n\u001b[1;32m---> 25\u001b[1;33m         \u001b[0mself\u001b[0m\u001b[1;33m.\u001b[0m\u001b[0mvalidate\u001b[0m\u001b[1;33m(\u001b[0m\u001b[1;33m)\u001b[0m\u001b[1;33m\u001b[0m\u001b[1;33m\u001b[0m\u001b[0m\n\u001b[0m\u001b[0;32m     26\u001b[0m \u001b[1;33m\u001b[0m\u001b[0m\n\u001b[0;32m     27\u001b[0m     \u001b[1;32mdef\u001b[0m \u001b[0m__eq__\u001b[0m\u001b[1;33m(\u001b[0m\u001b[0mself\u001b[0m\u001b[1;33m,\u001b[0m \u001b[0mother\u001b[0m\u001b[1;33m)\u001b[0m\u001b[1;33m:\u001b[0m\u001b[1;33m\u001b[0m\u001b[1;33m\u001b[0m\u001b[0m\n",
      "\u001b[1;32mC:\\ML\\fyp\\env\\lib\\site-packages\\automata\\fa\\dfa.py\u001b[0m in \u001b[0;36mvalidate\u001b[1;34m(self)\u001b[0m\n\u001b[0;32m    133\u001b[0m     \u001b[1;32mdef\u001b[0m \u001b[0mvalidate\u001b[0m\u001b[1;33m(\u001b[0m\u001b[0mself\u001b[0m\u001b[1;33m)\u001b[0m\u001b[1;33m:\u001b[0m\u001b[1;33m\u001b[0m\u001b[1;33m\u001b[0m\u001b[0m\n\u001b[0;32m    134\u001b[0m         \u001b[1;34m\"\"\"Return True if this DFA is internally consistent.\"\"\"\u001b[0m\u001b[1;33m\u001b[0m\u001b[1;33m\u001b[0m\u001b[0m\n\u001b[1;32m--> 135\u001b[1;33m         \u001b[0mself\u001b[0m\u001b[1;33m.\u001b[0m\u001b[0m_validate_transition_start_states\u001b[0m\u001b[1;33m(\u001b[0m\u001b[1;33m)\u001b[0m\u001b[1;33m\u001b[0m\u001b[1;33m\u001b[0m\u001b[0m\n\u001b[0m\u001b[0;32m    136\u001b[0m         \u001b[1;32mfor\u001b[0m \u001b[0mstart_state\u001b[0m\u001b[1;33m,\u001b[0m \u001b[0mpaths\u001b[0m \u001b[1;32min\u001b[0m \u001b[0mself\u001b[0m\u001b[1;33m.\u001b[0m\u001b[0mtransitions\u001b[0m\u001b[1;33m.\u001b[0m\u001b[0mitems\u001b[0m\u001b[1;33m(\u001b[0m\u001b[1;33m)\u001b[0m\u001b[1;33m:\u001b[0m\u001b[1;33m\u001b[0m\u001b[1;33m\u001b[0m\u001b[0m\n\u001b[0;32m    137\u001b[0m             \u001b[0mself\u001b[0m\u001b[1;33m.\u001b[0m\u001b[0m_validate_transitions\u001b[0m\u001b[1;33m(\u001b[0m\u001b[0mstart_state\u001b[0m\u001b[1;33m,\u001b[0m \u001b[0mpaths\u001b[0m\u001b[1;33m)\u001b[0m\u001b[1;33m\u001b[0m\u001b[1;33m\u001b[0m\u001b[0m\n",
      "\u001b[1;32mC:\\ML\\fyp\\env\\lib\\site-packages\\automata\\fa\\dfa.py\u001b[0m in \u001b[0;36m_validate_transition_start_states\u001b[1;34m(self)\u001b[0m\n\u001b[0;32m    113\u001b[0m         \u001b[1;32mfor\u001b[0m \u001b[0mstate\u001b[0m \u001b[1;32min\u001b[0m \u001b[0mself\u001b[0m\u001b[1;33m.\u001b[0m\u001b[0mstates\u001b[0m\u001b[1;33m:\u001b[0m\u001b[1;33m\u001b[0m\u001b[1;33m\u001b[0m\u001b[0m\n\u001b[0;32m    114\u001b[0m             \u001b[1;32mif\u001b[0m \u001b[0mstate\u001b[0m \u001b[1;32mnot\u001b[0m \u001b[1;32min\u001b[0m \u001b[0mself\u001b[0m\u001b[1;33m.\u001b[0m\u001b[0mtransitions\u001b[0m\u001b[1;33m:\u001b[0m\u001b[1;33m\u001b[0m\u001b[1;33m\u001b[0m\u001b[0m\n\u001b[1;32m--> 115\u001b[1;33m                 raise exceptions.MissingStateError(\n\u001b[0m\u001b[0;32m    116\u001b[0m                     'transition start state {} is missing'.format(\n\u001b[0;32m    117\u001b[0m                         state))\n",
      "\u001b[1;31mMissingStateError\u001b[0m: transition start state 0 is missing"
     ]
    }
   ],
   "source": [
    "dfa = VisualDFA(\n",
    "    states=set(dfa_states),\n",
    "    input_symbols=set(dfa[\"letters\"]),\n",
    "    transitions={\n",
    "        \"0\": {\"a\": \"3\", \"b\": \"q1\"},\n",
    "        \"1\": {\"a\": \"3\", \"b\": \"q2\"},\n",
    "        \"2\": {\"a\": \"3\", \"b\": \"q2\"},\n",
    "        \"3\": {\"a\": \"4\", \"b\": \"q1\"},\n",
    "        \"4\": {\"a\": \"4\", \"b\": \"q1\"},\n",
    "    },\n",
    "    initial_state=\"q0\",\n",
    "    final_states={\"q2\", \"q4\"},\n",
    ")"
   ]
  },
  {
   "cell_type": "code",
   "execution_count": 8,
   "metadata": {},
   "outputs": [
    {
     "data": {
      "image/svg+xml": "<?xml version=\"1.0\" encoding=\"UTF-8\" standalone=\"no\"?>\n<!DOCTYPE svg PUBLIC \"-//W3C//DTD SVG 1.1//EN\"\n \"http://www.w3.org/Graphics/SVG/1.1/DTD/svg11.dtd\">\n<!-- Generated by graphviz version 2.50.0 (20211204.2007)\n -->\n<!-- Pages: 1 -->\n<svg width=\"470pt\" height=\"259pt\"\n viewBox=\"0.00 0.00 470.08 259.15\" xmlns=\"http://www.w3.org/2000/svg\" xmlns:xlink=\"http://www.w3.org/1999/xlink\">\n<g id=\"graph0\" class=\"graph\" transform=\"scale(1 1) rotate(0) translate(4 255.15)\">\n<polygon fill=\"white\" stroke=\"transparent\" points=\"-4,4 -4,-255.15 466.08,-255.15 466.08,4 -4,4\"/>\n<!-- Initial -->\n<g id=\"node1\" class=\"node\">\n<title>Initial</title>\n<ellipse fill=\"black\" stroke=\"black\" cx=\"1.8\" cy=\"-20.15\" rx=\"1.8\" ry=\"1.8\"/>\n</g>\n<!-- q0 -->\n<g id=\"node2\" class=\"node\">\n<title>q0</title>\n<ellipse fill=\"none\" stroke=\"black\" cx=\"60.75\" cy=\"-20.15\" rx=\"20.3\" ry=\"20.3\"/>\n<text text-anchor=\"middle\" x=\"60.75\" y=\"-16.45\" font-family=\"Times New Roman,serif\" font-size=\"14.00\">q0</text>\n</g>\n<!-- Initial&#45;&gt;q0 -->\n<g id=\"edge1\" class=\"edge\">\n<title>Initial&#45;&gt;q0</title>\n<path fill=\"none\" stroke=\"black\" d=\"M3.79,-20.15C7.28,-20.15 19.5,-20.15 31.62,-20.15\"/>\n<polygon fill=\"black\" stroke=\"black\" points=\"31.81,-23.12 40.31,-20.15 31.81,-17.17 31.81,-23.12\"/>\n</g>\n<!-- q1 -->\n<g id=\"node3\" class=\"node\">\n<title>q1</title>\n<ellipse fill=\"none\" stroke=\"black\" cx=\"152.04\" cy=\"-101.15\" rx=\"20.3\" ry=\"20.3\"/>\n<text text-anchor=\"middle\" x=\"152.04\" y=\"-97.45\" font-family=\"Times New Roman,serif\" font-size=\"14.00\">q1</text>\n</g>\n<!-- q0&#45;&gt;q1 -->\n<g id=\"edge3\" class=\"edge\">\n<title>q0&#45;&gt;q1</title>\n<path fill=\"none\" stroke=\"black\" d=\"M76.49,-33.52C91.06,-46.73 113.48,-67.07 129.93,-81.99\"/>\n<polygon fill=\"black\" stroke=\"black\" points=\"128.28,-84.51 136.57,-88.02 132.28,-80.11 128.28,-84.51\"/>\n<text text-anchor=\"middle\" x=\"106.4\" y=\"-68.95\" font-family=\"Times New Roman,serif\" font-size=\"14.00\"> 1 </text>\n</g>\n<!-- q3 -->\n<g id=\"node5\" class=\"node\">\n<title>q3</title>\n<ellipse fill=\"none\" stroke=\"black\" cx=\"342.64\" cy=\"-101.15\" rx=\"20.3\" ry=\"20.3\"/>\n<text text-anchor=\"middle\" x=\"342.64\" y=\"-97.45\" font-family=\"Times New Roman,serif\" font-size=\"14.00\">q3</text>\n</g>\n<!-- q0&#45;&gt;q3 -->\n<g id=\"edge2\" class=\"edge\">\n<title>q0&#45;&gt;q3</title>\n<path fill=\"none\" stroke=\"black\" d=\"M80.81,-23.28C122.42,-30.46 224.07,-49.95 304.49,-81.15 308.73,-82.79 313.11,-84.82 317.3,-86.94\"/>\n<polygon fill=\"black\" stroke=\"black\" points=\"316.14,-89.7 325.04,-91.08 318.94,-84.45 316.14,-89.7\"/>\n<text text-anchor=\"middle\" x=\"197.69\" y=\"-52.95\" font-family=\"Times New Roman,serif\" font-size=\"14.00\"> 0 </text>\n</g>\n<!-- q2 -->\n<g id=\"node4\" class=\"node\">\n<title>q2</title>\n<ellipse fill=\"none\" stroke=\"black\" cx=\"247.34\" cy=\"-158.15\" rx=\"20.27\" ry=\"20.27\"/>\n<ellipse fill=\"none\" stroke=\"black\" cx=\"247.34\" cy=\"-158.15\" rx=\"24.3\" ry=\"24.3\"/>\n<text text-anchor=\"middle\" x=\"247.34\" y=\"-154.45\" font-family=\"Times New Roman,serif\" font-size=\"14.00\">q2</text>\n</g>\n<!-- q1&#45;&gt;q2 -->\n<g id=\"edge5\" class=\"edge\">\n<title>q1&#45;&gt;q2</title>\n<path fill=\"none\" stroke=\"black\" d=\"M169.72,-111.34C183.33,-119.65 202.83,-131.56 218.75,-141.29\"/>\n<polygon fill=\"black\" stroke=\"black\" points=\"217.43,-143.97 226.24,-145.86 220.53,-138.89 217.43,-143.97\"/>\n<text text-anchor=\"middle\" x=\"197.69\" y=\"-134.95\" font-family=\"Times New Roman,serif\" font-size=\"14.00\"> 1 </text>\n</g>\n<!-- q1&#45;&gt;q3 -->\n<g id=\"edge4\" class=\"edge\">\n<title>q1&#45;&gt;q3</title>\n<path fill=\"none\" stroke=\"black\" d=\"M172.52,-101.15C206.06,-101.15 274.86,-101.15 313.57,-101.15\"/>\n<polygon fill=\"black\" stroke=\"black\" points=\"313.77,-104.12 322.27,-101.15 313.77,-98.17 313.77,-104.12\"/>\n<text text-anchor=\"middle\" x=\"247.34\" y=\"-104.95\" font-family=\"Times New Roman,serif\" font-size=\"14.00\"> 0 </text>\n</g>\n<!-- q2&#45;&gt;q2 -->\n<g id=\"edge7\" class=\"edge\">\n<title>q2&#45;&gt;q2</title>\n<path fill=\"none\" stroke=\"black\" d=\"M238.52,-180.7C237.56,-191.16 240.5,-200.3 247.34,-200.3 252.15,-200.3 255.04,-195.78 255.99,-189.46\"/>\n<polygon fill=\"black\" stroke=\"black\" points=\"258.97,-189.25 256.16,-180.7 253.02,-189.14 258.97,-189.25\"/>\n<text text-anchor=\"middle\" x=\"247.34\" y=\"-204.1\" font-family=\"Times New Roman,serif\" font-size=\"14.00\"> 1 </text>\n</g>\n<!-- q2&#45;&gt;q3 -->\n<g id=\"edge6\" class=\"edge\">\n<title>q2&#45;&gt;q3</title>\n<path fill=\"none\" stroke=\"black\" d=\"M268.58,-145.78C283.01,-136.97 302.45,-125.09 317.65,-115.8\"/>\n<polygon fill=\"black\" stroke=\"black\" points=\"319.46,-118.18 325.16,-111.21 316.36,-113.11 319.46,-118.18\"/>\n<text text-anchor=\"middle\" x=\"296.99\" y=\"-134.95\" font-family=\"Times New Roman,serif\" font-size=\"14.00\"> 0 </text>\n</g>\n<!-- q3&#45;&gt;q1 -->\n<g id=\"edge9\" class=\"edge\">\n<title>q3&#45;&gt;q1</title>\n<path fill=\"none\" stroke=\"black\" d=\"M323.45,-94.8C309.44,-90.26 289.5,-84.54 271.49,-82.15 250.21,-79.32 244.47,-79.32 223.19,-82.15 208.56,-84.09 192.65,-88.23 179.69,-92.15\"/>\n<polygon fill=\"black\" stroke=\"black\" points=\"178.46,-89.42 171.23,-94.8 180.24,-95.09 178.46,-89.42\"/>\n<text text-anchor=\"middle\" x=\"247.34\" y=\"-85.95\" font-family=\"Times New Roman,serif\" font-size=\"14.00\"> 1 </text>\n</g>\n<!-- q4 -->\n<g id=\"node6\" class=\"node\">\n<title>q4</title>\n<ellipse fill=\"none\" stroke=\"black\" cx=\"437.93\" cy=\"-172.15\" rx=\"20.27\" ry=\"20.27\"/>\n<ellipse fill=\"none\" stroke=\"black\" cx=\"437.93\" cy=\"-172.15\" rx=\"24.3\" ry=\"24.3\"/>\n<text text-anchor=\"middle\" x=\"437.93\" y=\"-168.45\" font-family=\"Times New Roman,serif\" font-size=\"14.00\">q4</text>\n</g>\n<!-- q3&#45;&gt;q4 -->\n<g id=\"edge8\" class=\"edge\">\n<title>q3&#45;&gt;q4</title>\n<path fill=\"none\" stroke=\"black\" d=\"M359.04,-112.87C373.26,-123.69 394.65,-139.97 411.42,-152.73\"/>\n<polygon fill=\"black\" stroke=\"black\" points=\"409.72,-155.18 418.29,-157.96 413.33,-150.44 409.72,-155.18\"/>\n<text text-anchor=\"middle\" x=\"388.29\" y=\"-141.95\" font-family=\"Times New Roman,serif\" font-size=\"14.00\"> 0 </text>\n</g>\n<!-- q4&#45;&gt;q1 -->\n<g id=\"edge11\" class=\"edge\">\n<title>q4&#45;&gt;q1</title>\n<path fill=\"none\" stroke=\"black\" d=\"M417.58,-185.77C378.36,-211.55 287.75,-261.65 223.19,-224.15 188.17,-203.81 169.18,-158.71 160.08,-129.14\"/>\n<polygon fill=\"black\" stroke=\"black\" points=\"162.91,-128.21 157.67,-120.88 157.2,-129.87 162.91,-128.21\"/>\n<text text-anchor=\"middle\" x=\"296.99\" y=\"-239.95\" font-family=\"Times New Roman,serif\" font-size=\"14.00\"> 1 </text>\n</g>\n<!-- q4&#45;&gt;q4 -->\n<g id=\"edge10\" class=\"edge\">\n<title>q4&#45;&gt;q4</title>\n<path fill=\"none\" stroke=\"black\" d=\"M429.11,-194.7C428.15,-205.16 431.09,-214.3 437.93,-214.3 442.75,-214.3 445.63,-209.78 446.58,-203.46\"/>\n<polygon fill=\"black\" stroke=\"black\" points=\"449.56,-203.25 446.76,-194.7 443.61,-203.14 449.56,-203.25\"/>\n<text text-anchor=\"middle\" x=\"437.93\" y=\"-218.1\" font-family=\"Times New Roman,serif\" font-size=\"14.00\"> 0 </text>\n</g>\n</g>\n</svg>\n",
      "text/plain": [
       "<graphviz.graphs.Digraph at 0x2045ac7c7f0>"
      ]
     },
     "execution_count": 8,
     "metadata": {},
     "output_type": "execute_result"
    }
   ],
   "source": [
    "dfa.show_diagram()"
   ]
  }
 ],
 "metadata": {
  "interpreter": {
   "hash": "75ec59e174848c9bbbe994493803464d4a3b0efdc7804d5dc9069175ac4a8038"
  },
  "kernelspec": {
   "display_name": "Python 3.9.7",
   "language": "python",
   "name": "python3"
  },
  "language_info": {
   "codemirror_mode": {
    "name": "ipython",
    "version": 3
   },
   "file_extension": ".py",
   "mimetype": "text/x-python",
   "name": "python",
   "nbconvert_exporter": "python",
   "pygments_lexer": "ipython3",
   "version": "3.9.7"
  },
  "orig_nbformat": 4
 },
 "nbformat": 4,
 "nbformat_minor": 2
}
