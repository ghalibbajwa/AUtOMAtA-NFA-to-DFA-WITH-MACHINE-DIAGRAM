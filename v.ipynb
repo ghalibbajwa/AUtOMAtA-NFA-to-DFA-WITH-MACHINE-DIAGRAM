{
 "cells": [
  {
   "cell_type": "code",
   "execution_count": 1,
   "metadata": {},
   "outputs": [],
   "source": [
    "from automata.fa.dfa import DFA\n",
    "from automata.fa.nfa import NFA\n",
    "from visual_automata.fa.dfa import VisualDFA\n",
    "from visual_automata.fa.nfa import VisualNFA\n",
    "import json\n",
    "from collections import OrderedDict"
   ]
  },
  {
   "cell_type": "code",
   "execution_count": 83,
   "metadata": {},
   "outputs": [
    {
     "name": "stdout",
     "output_type": "stream",
     "text": [
      "OrderedDict([('states', 8), ('letters', ['0', '1']), ('t_func', [[('A',), '0', ['A', 'B']], [('A',), '1', ['A']], [('A', 'B'), '0', ['A', 'B']], [('A', 'B'), '1', ['A', 'C']], [('A', 'C'), '0', ['A', 'B']], [('A', 'C'), '1', ['A']]]), ('start', 'A'), ('final', [('A',), ('A', 'B'), ('A', 'C'), ('A', 'C')])])\n"
     ]
    }
   ],
   "source": [
    "\n",
    "\n",
    "jsdata={\n",
    "    \"states\":4,\n",
    "    \"letters\":[\"0\",\"1\"],\n",
    "    \"t_func\":[['A',\"0\",['A','B']],['A',\"1\",['A','D']],['B',\"1\",['C']]],\n",
    "    \"start\":'A',\n",
    "    \"final\":['A','C']\n",
    "}\n",
    "data=json.loads(json.dumps(jsdata),object_pairs_hook=OrderedDict)\n",
    "\n",
    "dfa_states = 2 ** data[\"states\"]\n",
    "dfa_letters = data[\"letters\"]\n",
    "dfa_start = data[\"start\"]\n",
    "dfa_t_func = []\n",
    "dfa_final = []\n",
    "dfa_list = []\n",
    "q = []\n",
    "\n",
    "q.append((dfa_start,))\n",
    "\n",
    "nfa_transitions = {}\n",
    "dfa_transitions = {}\n",
    "\n",
    "for transition in data[\"t_func\"]:\n",
    "    nfa_transitions[(transition[0], transition[1])] = transition[2]\n",
    "\n",
    "for in_state in q:\n",
    "    for symbol in dfa_letters:\n",
    "        if len(in_state) == 1 and (in_state[0], symbol) in nfa_transitions:\n",
    "            dfa_transitions[(in_state, symbol)] = nfa_transitions[(in_state[0], symbol)]\n",
    "\n",
    "            if tuple(dfa_transitions[(in_state, symbol)]) not in q:\n",
    "                q.append(tuple(dfa_transitions[(in_state, symbol)]))\n",
    "        else:\n",
    "            dest = []\n",
    "            f_dest =[]\n",
    "\n",
    "            for n_state in in_state:\n",
    "                if (n_state, symbol) in nfa_transitions and nfa_transitions[(n_state, symbol)] not in dest:\n",
    "                    dest.append(nfa_transitions[(n_state, symbol)])\n",
    "            \n",
    "            if dest:\n",
    "                for d in dest:\n",
    "                    for value in d:\n",
    "                        if value not in f_dest:\n",
    "                            f_dest.append(value)\n",
    "            \n",
    "                dfa_transitions[(in_state, symbol)] = f_dest \n",
    "\n",
    "                if tuple(f_dest) not in q: \n",
    "                    q.append(tuple(f_dest))\n",
    "\n",
    "for key, value in dfa_transitions.items():\n",
    "    temp_list = [[key[0], key[1], value]]\n",
    "    dfa_t_func.extend(temp_list)\n",
    "\n",
    "\n",
    "for q_state in q:\n",
    "    for f_state in data[\"final\"]:\n",
    "        if f_state in q_state:\n",
    "            dfa_final.append(q_state)\n",
    "\n",
    "dfa = OrderedDict()\n",
    "dfa[\"states\"] = dfa_states\n",
    "dfa[\"letters\"] = dfa_letters\n",
    "dfa[\"t_func\"] = dfa_t_func\n",
    "dfa[\"start\"] = dfa_start\n",
    "dfa[\"final\"] = dfa_final\n",
    "\n",
    "#output_file = open('output2.json', 'w+')\n",
    "#print(json.dumps(dfa, indent=4))\n",
    "dfa_states=[]\n",
    "for i in range(dfa[\"states\"]):\n",
    "   dfa_states.append(i)\n",
    "#json.dump(dfa, output_file, separators = (',\\t' , ':'))     \n",
    "print(dfa)"
   ]
  },
  {
   "cell_type": "code",
   "execution_count": 10,
   "metadata": {},
   "outputs": [],
   "source": [
    "def unique(list1):\n",
    " \n",
    "    # initialize a null list\n",
    "    unique_list = []\n",
    "     \n",
    "    # traverse for all elements\n",
    "    for x in list1:\n",
    "        # check if exists in unique_list or not\n",
    "        if x not in unique_list:\n",
    "            unique_list.append(x)\n",
    "    # print list\n",
    "    return unique_list"
   ]
  },
  {
   "cell_type": "code",
   "execution_count": 91,
   "metadata": {},
   "outputs": [
    {
     "ename": "TypeError",
     "evalue": "'VisualDFA' object is not subscriptable",
     "output_type": "error",
     "traceback": [
      "\u001b[1;31m---------------------------------------------------------------------------\u001b[0m",
      "\u001b[1;31mTypeError\u001b[0m                                 Traceback (most recent call last)",
      "\u001b[1;32m~\\AppData\\Local\\Temp/ipykernel_752/1321416541.py\u001b[0m in \u001b[0;36m<module>\u001b[1;34m\u001b[0m\n\u001b[0;32m      2\u001b[0m \u001b[0mstates\u001b[0m\u001b[1;33m=\u001b[0m\u001b[1;33m[\u001b[0m\u001b[1;33m]\u001b[0m\u001b[1;33m\u001b[0m\u001b[1;33m\u001b[0m\u001b[0m\n\u001b[0;32m      3\u001b[0m \u001b[1;33m\u001b[0m\u001b[0m\n\u001b[1;32m----> 4\u001b[1;33m \u001b[1;32mfor\u001b[0m \u001b[0mi\u001b[0m \u001b[1;32min\u001b[0m \u001b[0mrange\u001b[0m\u001b[1;33m(\u001b[0m\u001b[0mlen\u001b[0m\u001b[1;33m(\u001b[0m\u001b[0mdfa\u001b[0m\u001b[1;33m[\u001b[0m\u001b[1;34m\"t_func\"\u001b[0m\u001b[1;33m]\u001b[0m\u001b[1;33m)\u001b[0m\u001b[1;33m)\u001b[0m\u001b[1;33m:\u001b[0m\u001b[1;33m\u001b[0m\u001b[1;33m\u001b[0m\u001b[0m\n\u001b[0m\u001b[0;32m      5\u001b[0m     \u001b[0mtr1\u001b[0m\u001b[1;33m.\u001b[0m\u001b[0mappend\u001b[0m\u001b[1;33m(\u001b[0m\u001b[0mdfa\u001b[0m\u001b[1;33m[\u001b[0m\u001b[1;34m\"t_func\"\u001b[0m\u001b[1;33m]\u001b[0m\u001b[1;33m[\u001b[0m\u001b[0mi\u001b[0m\u001b[1;33m]\u001b[0m\u001b[1;33m[\u001b[0m\u001b[1;36m0\u001b[0m\u001b[1;33m]\u001b[0m\u001b[1;33m)\u001b[0m\u001b[1;33m\u001b[0m\u001b[1;33m\u001b[0m\u001b[0m\n\u001b[0;32m      6\u001b[0m \u001b[1;33m\u001b[0m\u001b[0m\n",
      "\u001b[1;31mTypeError\u001b[0m: 'VisualDFA' object is not subscriptable"
     ]
    }
   ],
   "source": [
    "tr1=[]\n",
    "states=[]\n",
    "\n",
    "for i in range(len(dfa[\"t_func\"])):\n",
    "    tr1.append(dfa[\"t_func\"][i][0])\n",
    "\n",
    "states=unique(tr1)\n",
    "\n",
    "\n",
    "t={}\n",
    "for i in range(len(states)):\n",
    "    key=str(states[i])\n",
    "    key=key.replace(\",\",\"\")\n",
    "    key=key.replace(\"'\",\"\")\n",
    "    key=key.replace(\" \",\"\")\n",
    "    key=key.replace(\"(\",\"\")\n",
    "    key=key.replace(\")\",\"\")\n",
    "\n",
    "\n",
    "    t[key]={}\n",
    "\n",
    "\n",
    "for i in range(len(dfa[\"t_func\"])):\n",
    "    for k in range(len(states)):\n",
    "        if dfa[\"t_func\"][i][0]==states[k]:\n",
    "            print(dfa[\"t_func\"][i][0],dfa[\"t_func\"][i][1],dfa[\"t_func\"][i][2])\n",
    "            key=str(dfa[\"t_func\"][i][0])\n",
    "            key=key.replace(\",\",\"\")\n",
    "            key=key.replace(\"'\",\"\")\n",
    "            key=key.replace(\" \",\"\")\n",
    "            key=key.replace(\"(\",\"\")\n",
    "            key=key.replace(\")\",\"\")\n",
    "            subkey=str(dfa[\"t_func\"][i][1])\n",
    "            subkey=subkey.replace(\",\",\"\")\n",
    "            subkey=subkey.replace(\"'\",\"\")\n",
    "            subkey=subkey.replace(\" \",\"\")\n",
    "            subkey=subkey.replace(\"(\",\"\")\n",
    "            subkey=subkey.replace(\")\",\"\")\n",
    "            subkey=subkey.replace(\"[\",\"\")\n",
    "            subkey=subkey.replace(\"]\",\"\")\n",
    "            value=str(dfa[\"t_func\"][i][2])\n",
    "            value=value.replace(\",\",\"\")\n",
    "            value=value.replace(\"'\",\"\")\n",
    "            value=value.replace(\" \",\"\")\n",
    "            value=value.replace(\"(\",\"\")\n",
    "            value=value.replace(\")\",\"\")\n",
    "            value=value.replace(\"[\",\"\")\n",
    "            value=value.replace(\"]\",\"\")\n",
    "            t[key].update({subkey:value})\n",
    "    \n",
    "\n",
    "\n",
    "for i in range(len(states)):\n",
    "    states[i]=str(states[i])\n",
    "    states[i]=states[i].replace(\",\",\"\")\n",
    "    states[i]=states[i].replace(\"'\",\"\")\n",
    "    states[i]=states[i].replace(\" \",\"\")\n",
    "    states[i]=states[i].replace(\"(\",\"\")\n",
    "    states[i]=states[i].replace(\")\",\"\")\n",
    "\n",
    "states=set(states)\n",
    "letters=set(dfa[\"letters\"])\n",
    "dfa_start=str(dfa[\"start\"])\n",
    "\n",
    "\n",
    "dfa_end=[]\n",
    "for i in range(len(dfa[\"final\"])):\n",
    "    end=str(dfa[\"final\"][i])\n",
    "    end=end.replace(\",\",\"\")\n",
    "    end=end.replace(\"'\",\"\")\n",
    "    end=end.replace(\" \",\"\")\n",
    "    end=end.replace(\"(\",\"\")\n",
    "    end=end.replace(\")\",\"\")\n",
    "    dfa_end.append(end)\n",
    "dfa_end=set(dfa_end)\n",
    "print(dfa_end)\n",
    "\n",
    "\n",
    "\n"
   ]
  },
  {
   "cell_type": "code",
   "execution_count": 89,
   "metadata": {},
   "outputs": [],
   "source": [
    "dfa = VisualDFA(\n",
    "    states=states,\n",
    "    input_symbols=letters,\n",
    "    transitions=t,\n",
    "    initial_state=dfa_start,\n",
    "    final_states=dfa_end,\n",
    ")"
   ]
  },
  {
   "cell_type": "code",
   "execution_count": 90,
   "metadata": {},
   "outputs": [
    {
     "data": {
      "image/svg+xml": "<?xml version=\"1.0\" encoding=\"UTF-8\" standalone=\"no\"?>\n<!DOCTYPE svg PUBLIC \"-//W3C//DTD SVG 1.1//EN\"\n \"http://www.w3.org/Graphics/SVG/1.1/DTD/svg11.dtd\">\n<!-- Generated by graphviz version 2.50.0 (20211204.2007)\n -->\n<!-- Pages: 1 -->\n<svg width=\"303pt\" height=\"134pt\"\n viewBox=\"0.00 0.00 302.89 133.75\" xmlns=\"http://www.w3.org/2000/svg\" xmlns:xlink=\"http://www.w3.org/1999/xlink\">\n<g id=\"graph0\" class=\"graph\" transform=\"scale(1 1) rotate(0) translate(4 129.75)\">\n<polygon fill=\"white\" stroke=\"transparent\" points=\"-4,4 -4,-129.75 298.89,-129.75 298.89,4 -4,4\"/>\n<!-- Initial -->\n<g id=\"node1\" class=\"node\">\n<title>Initial</title>\n<ellipse fill=\"black\" stroke=\"black\" cx=\"1.8\" cy=\"-22\" rx=\"1.8\" ry=\"1.8\"/>\n</g>\n<!-- A -->\n<g id=\"node2\" class=\"node\">\n<title>A</title>\n<ellipse fill=\"none\" stroke=\"black\" cx=\"62.6\" cy=\"-22\" rx=\"18\" ry=\"18\"/>\n<ellipse fill=\"none\" stroke=\"black\" cx=\"62.6\" cy=\"-22\" rx=\"22\" ry=\"22\"/>\n<text text-anchor=\"middle\" x=\"62.6\" y=\"-18.3\" font-family=\"Times New Roman,serif\" font-size=\"14.00\">A</text>\n</g>\n<!-- Initial&#45;&gt;A -->\n<g id=\"edge1\" class=\"edge\">\n<title>Initial&#45;&gt;A</title>\n<path fill=\"none\" stroke=\"black\" d=\"M3.82,-22C7.33,-22 19.36,-22 31.54,-22\"/>\n<polygon fill=\"black\" stroke=\"black\" points=\"31.81,-24.98 40.31,-22 31.81,-19.03 31.81,-24.98\"/>\n</g>\n<!-- A&#45;&gt;A -->\n<g id=\"edge3\" class=\"edge\">\n<title>A&#45;&gt;A</title>\n<path fill=\"none\" stroke=\"black\" d=\"M55.28,-42.99C54.38,-53.09 56.82,-62 62.6,-62 66.57,-62 68.97,-57.79 69.78,-51.87\"/>\n<polygon fill=\"black\" stroke=\"black\" points=\"72.76,-51.53 69.92,-42.99 66.82,-51.45 72.76,-51.53\"/>\n<text text-anchor=\"middle\" x=\"62.6\" y=\"-65.8\" font-family=\"Times New Roman,serif\" font-size=\"14.00\"> 1 </text>\n</g>\n<!-- AB -->\n<g id=\"node3\" class=\"node\">\n<title>AB</title>\n<ellipse fill=\"none\" stroke=\"black\" cx=\"162.35\" cy=\"-66\" rx=\"22.96\" ry=\"22.96\"/>\n<ellipse fill=\"none\" stroke=\"black\" cx=\"162.35\" cy=\"-66\" rx=\"27\" ry=\"27\"/>\n<text text-anchor=\"middle\" x=\"162.35\" y=\"-62.3\" font-family=\"Times New Roman,serif\" font-size=\"14.00\">AB</text>\n</g>\n<!-- A&#45;&gt;AB -->\n<g id=\"edge2\" class=\"edge\">\n<title>A&#45;&gt;AB</title>\n<path fill=\"none\" stroke=\"black\" d=\"M82.91,-30.69C96.27,-36.71 114.36,-44.85 129.79,-51.8\"/>\n<polygon fill=\"black\" stroke=\"black\" points=\"128.61,-54.53 137.58,-55.3 131.05,-49.1 128.61,-54.53\"/>\n<text text-anchor=\"middle\" x=\"110.1\" y=\"-49.8\" font-family=\"Times New Roman,serif\" font-size=\"14.00\"> 0 </text>\n</g>\n<!-- AB&#45;&gt;AB -->\n<g id=\"edge4\" class=\"edge\">\n<title>AB&#45;&gt;AB</title>\n<path fill=\"none\" stroke=\"black\" d=\"M152.68,-91.3C152.02,-101.83 155.24,-110.75 162.35,-110.75 167.35,-110.75 170.42,-106.34 171.58,-100.06\"/>\n<polygon fill=\"black\" stroke=\"black\" points=\"174.56,-99.94 172.01,-91.3 168.62,-99.64 174.56,-99.94\"/>\n<text text-anchor=\"middle\" x=\"162.35\" y=\"-114.55\" font-family=\"Times New Roman,serif\" font-size=\"14.00\"> 0 </text>\n</g>\n<!-- AC -->\n<g id=\"node4\" class=\"node\">\n<title>AC</title>\n<ellipse fill=\"none\" stroke=\"black\" cx=\"267.49\" cy=\"-39\" rx=\"23.31\" ry=\"23.31\"/>\n<ellipse fill=\"none\" stroke=\"black\" cx=\"267.49\" cy=\"-39\" rx=\"27.3\" ry=\"27.3\"/>\n<text text-anchor=\"middle\" x=\"267.49\" y=\"-35.3\" font-family=\"Times New Roman,serif\" font-size=\"14.00\">AC</text>\n</g>\n<!-- AB&#45;&gt;AC -->\n<g id=\"edge5\" class=\"edge\">\n<title>AB&#45;&gt;AC</title>\n<path fill=\"none\" stroke=\"black\" d=\"M189,-62.12C199.36,-60.31 211.38,-57.91 222.1,-55 225.84,-53.98 229.73,-52.79 233.56,-51.53\"/>\n<polygon fill=\"black\" stroke=\"black\" points=\"234.76,-54.26 241.83,-48.68 232.82,-48.64 234.76,-54.26\"/>\n<text text-anchor=\"middle\" x=\"214.6\" y=\"-62.8\" font-family=\"Times New Roman,serif\" font-size=\"14.00\"> 1 </text>\n</g>\n<!-- AC&#45;&gt;A -->\n<g id=\"edge7\" class=\"edge\">\n<title>AC&#45;&gt;A</title>\n<path fill=\"none\" stroke=\"black\" d=\"M241.84,-29.27C226.85,-23.89 207.18,-17.74 189.1,-15 156.48,-10.06 118.62,-13.39 93.09,-16.95\"/>\n<polygon fill=\"black\" stroke=\"black\" points=\"92.57,-14.02 84.6,-18.21 93.44,-19.91 92.57,-14.02\"/>\n<text text-anchor=\"middle\" x=\"162.35\" y=\"-18.8\" font-family=\"Times New Roman,serif\" font-size=\"14.00\"> 1 </text>\n</g>\n<!-- AC&#45;&gt;AB -->\n<g id=\"edge6\" class=\"edge\">\n<title>AC&#45;&gt;AB</title>\n<path fill=\"none\" stroke=\"black\" d=\"M240.57,-33.84C229.98,-32.72 217.75,-32.7 207.1,-36 201.3,-37.8 195.6,-40.65 190.32,-43.9\"/>\n<polygon fill=\"black\" stroke=\"black\" points=\"188.31,-41.66 182.92,-48.88 191.63,-46.6 188.31,-41.66\"/>\n<text text-anchor=\"middle\" x=\"214.6\" y=\"-39.8\" font-family=\"Times New Roman,serif\" font-size=\"14.00\"> 0 </text>\n</g>\n</g>\n</svg>\n",
      "text/plain": [
       "<graphviz.graphs.Digraph at 0x1aa559d4520>"
      ]
     },
     "execution_count": 90,
     "metadata": {},
     "output_type": "execute_result"
    }
   ],
   "source": [
    "dfa.show_diagram()"
   ]
  }
 ],
 "metadata": {
  "interpreter": {
   "hash": "75ec59e174848c9bbbe994493803464d4a3b0efdc7804d5dc9069175ac4a8038"
  },
  "kernelspec": {
   "display_name": "Python 3.9.7",
   "language": "python",
   "name": "python3"
  },
  "language_info": {
   "codemirror_mode": {
    "name": "ipython",
    "version": 3
   },
   "file_extension": ".py",
   "mimetype": "text/x-python",
   "name": "python",
   "nbconvert_exporter": "python",
   "pygments_lexer": "ipython3",
   "version": "3.9.7"
  },
  "orig_nbformat": 4
 },
 "nbformat": 4,
 "nbformat_minor": 2
}
